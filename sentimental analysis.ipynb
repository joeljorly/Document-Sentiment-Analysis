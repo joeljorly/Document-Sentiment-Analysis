{
 "cells": [
  {
   "cell_type": "code",
   "execution_count": 1,
   "metadata": {},
   "outputs": [],
   "source": [
    "import string\n",
    "from sklearn.naive_bayes import MultinomialNB\n",
    "from sklearn.feature_extraction.text import CountVectorizer\n",
    "from sklearn import metrics"
   ]
  },
  {
   "cell_type": "code",
   "execution_count": null,
   "metadata": {},
   "outputs": [],
   "source": []
  },
  {
   "cell_type": "code",
   "execution_count": 2,
   "metadata": {
    "scrolled": false
   },
   "outputs": [
    {
     "name": "stdout",
     "output_type": "stream",
     "text": [
      "2847\n"
     ]
    }
   ],
   "source": [
    "data = []\n",
    "data_labels = []\n",
    "with open(\"./pos.txt\") as f:\n",
    "    for i in f:\n",
    "        data.append(i) \n",
    "        data_labels.append('pos')\n",
    "\n",
    "with open(\"./neg.txt\") as f:\n",
    "    for i in f: \n",
    "        data.append(i)\n",
    "        data_labels.append('neg')\n",
    "        \n",
    "with open(\"./neutral.txt\") as f:\n",
    "    for i in f: \n",
    "        data.append(i)\n",
    "        data_labels.append('neutral')\n",
    "        \n",
    "print(len(data))"
   ]
  },
  {
   "cell_type": "code",
   "execution_count": 3,
   "metadata": {},
   "outputs": [],
   "source": [
    "training_data = data[:int((.8)*len(data))]\n",
    "training_label = data_labels[:int((.8)*len(data_labels))]\n",
    "\n",
    "test_data = data[:int((.2)*len(data))]\n",
    "test_label = data_labels[:int((.2)*len(data_labels))]"
   ]
  },
  {
   "cell_type": "code",
   "execution_count": 4,
   "metadata": {},
   "outputs": [],
   "source": [
    "vectorizer = CountVectorizer(\n",
    "    stop_words='english',    \n",
    "    lowercase = False)\n",
    "\n",
    "vectorizer.fit(training_data)\n",
    "X_text=vectorizer.transform(test_data)\n",
    "X_train=vectorizer.transform(training_data)"
   ]
  },
  {
   "cell_type": "code",
   "execution_count": null,
   "metadata": {},
   "outputs": [],
   "source": []
  },
  {
   "cell_type": "code",
   "execution_count": 11,
   "metadata": {},
   "outputs": [
    {
     "data": {
      "text/plain": [
       "MultinomialNB()"
      ]
     },
     "execution_count": 11,
     "metadata": {},
     "output_type": "execute_result"
    }
   ],
   "source": [
    "classifier = MultinomialNB()\n",
    "classifier.fit(X_train,training_label)"
   ]
  },
  {
   "cell_type": "code",
   "execution_count": 6,
   "metadata": {},
   "outputs": [
    {
     "name": "stdout",
     "output_type": "stream",
     "text": [
      "Accuracy: 92.61862917398945 %\n"
     ]
    }
   ],
   "source": [
    "y_pred=classifier.predict(X_text)\n",
    "print('Accuracy:',metrics.accuracy_score(test_label,y_pred)*100,'%')"
   ]
  },
  {
   "cell_type": "code",
   "execution_count": 7,
   "metadata": {},
   "outputs": [
    {
     "name": "stdout",
     "output_type": "stream",
     "text": [
      "i not prefer to play cricket\n",
      "\n",
      "the trip was really amazing\n",
      "\n",
      "I overslept though so jenn and i didn't get to see the da vinci code which sucked and now i have no money so yeah maybe later.\n",
      "\n",
      "nahid is amazing\n",
      "\n",
      "My dad's being stupid about brokeback mountain...\n",
      "\n",
      "india is my country\n",
      "\n"
     ]
    }
   ],
   "source": [
    "input = []\n",
    "text = open('read.txt', encoding='utf-8').read()\n",
    "with open(\"./read.txt\") as f:\n",
    "    for i in f:\n",
    "        print(i)\n",
    "        input.append(i) \n",
    "\n",
    "#vectorizer.fit(training_data)\n",
    "X_input=vectorizer.transform(input)\n"
   ]
  },
  {
   "cell_type": "code",
   "execution_count": 8,
   "metadata": {},
   "outputs": [
    {
     "name": "stdout",
     "output_type": "stream",
     "text": [
      "['neg' 'pos' 'neg' 'pos' 'neg' 'neutral']\n"
     ]
    }
   ],
   "source": [
    "r=classifier.predict(X_input)\n",
    "print(r)"
   ]
  },
  {
   "cell_type": "code",
   "execution_count": 9,
   "metadata": {},
   "outputs": [],
   "source": [
    "n=0\n",
    "p=0\n",
    "a=0\n",
    "for i in r:\n",
    "    if(i=='neg'):\n",
    "        n=n+1\n",
    "    elif(i=='pos'):\n",
    "        p=p+1\n",
    "    else:\n",
    "        a=a+1\n",
    "    \n",
    "    "
   ]
  },
  {
   "cell_type": "code",
   "execution_count": 10,
   "metadata": {},
   "outputs": [
    {
     "data": {
      "image/png": "[encoded data removed]",
      "text/plain": [
       "<Figure size 432x288 with 1 Axes>"
      ]
     },
     "metadata": {
      "needs_background": "light"
     },
     "output_type": "display_data"
    }
   ],
   "source": [
    "import matplotlib.pyplot as plt\n",
    "\n",
    "names = ['pos', 'neg', 'neutral']\n",
    "values = [p, n, a]\n",
    "plt.bar(names, values)\n",
    "plt.show()"
   ]
  },
  {
   "cell_type": "code",
   "execution_count": null,
   "metadata": {},
   "outputs": [],
   "source": []
  },
  {
   "cell_type": "code",
   "execution_count": null,
   "metadata": {},
   "outputs": [],
   "source": []
  },
  {
   "cell_type": "code",
   "execution_count": null,
   "metadata": {},
   "outputs": [],
   "source": []
  },
  {
   "cell_type": "code",
   "execution_count": null,
   "metadata": {},
   "outputs": [],
   "source": [
    "\n"
   ]
  },
  {
   "cell_type": "code",
   "execution_count": null,
   "metadata": {},
   "outputs": [],
   "source": []
  },
  {
   "cell_type": "code",
   "execution_count": null,
   "metadata": {},
   "outputs": [],
   "source": []
  },
  {
   "cell_type": "code",
   "execution_count": null,
   "metadata": {},
   "outputs": [],
   "source": []
  }
 ],
 "metadata": {
  "kernelspec": {
   "display_name": "Python 3",
   "language": "python",
   "name": "python3"
  },
  "language_info": {
   "codemirror_mode": {
    "name": "ipython",
    "version": 3
   },
   "file_extension": ".py",
   "mimetype": "text/x-python",
   "name": "python",
   "nbconvert_exporter": "python",
   "pygments_lexer": "ipython3",
   "version": "3.6.9"
  }
 },
 "nbformat": 4,
 "nbformat_minor": 4
}
